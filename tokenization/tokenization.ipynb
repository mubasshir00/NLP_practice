{
  "nbformat": 4,
  "nbformat_minor": 0,
  "metadata": {
    "colab": {
      "provenance": []
    },
    "kernelspec": {
      "name": "python3",
      "display_name": "Python 3"
    },
    "language_info": {
      "name": "python"
    }
  },
  "cells": [
    {
      "cell_type": "code",
      "source": [
        "import spacy\n",
        "s1 = 'Every literate person is aware of the paragraph'\n",
        "s2 = 'Paragraphs are important in speeches, in writing # lwlw www.facebook.com or a random paragraph can be used as a prop in ads or presentations too'\n",
        "s3 = 'They are like the building blocks'\n",
        "s4 = 'Since paragraphs have so many roles to play and it is needed'\n",
        "nlp = spacy.load(name = 'en_core_web_sm')\n",
        "doc1 = nlp(s2)\n",
        "print(s2)\n",
        "# for loop \n",
        "for token in doc1:\n",
        "  print(token)"
      ],
      "metadata": {
        "colab": {
          "base_uri": "https://localhost:8080/"
        },
        "id": "PzQYfiQvTN5e",
        "outputId": "a80e6142-5336-4ed4-bfff-18208625fdfe"
      },
      "execution_count": 13,
      "outputs": [
        {
          "output_type": "stream",
          "name": "stdout",
          "text": [
            "Paragraphs are important in speeches, in writing # lwlw www.facebook.com or a random paragraph can be used as a prop in ads or presentations too\n",
            "Paragraphs\n",
            "are\n",
            "important\n",
            "in\n",
            "speeches\n",
            ",\n",
            "in\n",
            "writing\n",
            "#\n",
            "lwlw\n",
            "www.facebook.com\n",
            "or\n",
            "a\n",
            "random\n",
            "paragraph\n",
            "can\n",
            "be\n",
            "used\n",
            "as\n",
            "a\n",
            "prop\n",
            "in\n",
            "ads\n",
            "or\n",
            "presentations\n",
            "too\n"
          ]
        }
      ]
    }
  ]
}